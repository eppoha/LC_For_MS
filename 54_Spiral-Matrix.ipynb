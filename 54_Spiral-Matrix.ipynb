{
 "cells": [
  {
   "cell_type": "markdown",
   "metadata": {},
   "source": [
    "54. Spiral Matrix\n",
    "Medium\n",
    "\n",
    "Given an m x n matrix, return all elements of the matrix in spiral order.\n",
    "\n",
    " \n",
    "\n",
    "Example 1:\n",
    "\n",
    "Input: matrix = [[1,2,3],[4,5,6],[7,8,9]]\n",
    "Output: [1,2,3,6,9,8,7,4,5]\n",
    "\n",
    "Example 2:\n",
    "\n",
    "Input: matrix = [[1,2,3,4],[5,6,7,8],[9,10,11,12]]\n",
    "Output: [1,2,3,4,8,12,11,10,9,5,6,7]\n",
    "\n",
    " \n",
    "\n",
    "Constraints:\n",
    "\n",
    "    m == matrix.length\n",
    "    n == matrix[i].length\n",
    "    1 <= m, n <= 10\n",
    "    -100 <= matrix[i][j] <= 100\n",
    "\n",
    "\n",
    "54. 螺旋矩阵\n",
    "\n",
    "给你一个 m 行 n 列的矩阵 matrix ，请按照 顺时针螺旋顺序 ，返回矩阵中的所有元素。\n",
    "\n",
    " \n",
    "\n",
    "示例 1：\n",
    "\n",
    "输入：matrix = [[1,2,3],[4,5,6],[7,8,9]]\n",
    "输出：[1,2,3,6,9,8,7,4,5]\n",
    "\n",
    "示例 2：\n",
    "\n",
    "输入：matrix = [[1,2,3,4],[5,6,7,8],[9,10,11,12]]\n",
    "输出：[1,2,3,4,8,12,11,10,9,5,6,7]\n",
    "\n",
    " \n",
    "\n",
    "提示：\n",
    "\n",
    "    m == matrix.length\n",
    "    n == matrix[i].length\n",
    "    1 <= m, n <= 10\n",
    "    -100 <= matrix[i][j] <= 100\n",
    "\n"
   ]
  },
  {
   "cell_type": "code",
   "execution_count": 10,
   "metadata": {},
   "outputs": [
    {
     "name": "stdout",
     "output_type": "stream",
     "text": [
      "up to down: 1\n",
      "up to down: 2\n"
     ]
    },
    {
     "data": {
      "text/plain": [
       "[1, 2, 3, 4, 8, 12, 11, 10, 9, 5, 6, 7]"
      ]
     },
     "execution_count": 10,
     "metadata": {},
     "output_type": "execute_result"
    }
   ],
   "source": [
    "# It has similarity when compare with 200.\n",
    "#the vital role is the boundary.\n",
    "from typing import List\n",
    "class Solution_54:\n",
    "    def spiralOrder(self, matrix: List[List[int]]) -> List[int]:\n",
    "        row = len(matrix)\n",
    "        col = len(matrix[0])\n",
    "        # all steps\n",
    "        total = row * col\n",
    "\n",
    "        up = 0\n",
    "        down = row-1\n",
    "        left = 0\n",
    "        right = col-1\n",
    "        res = []\n",
    "\n",
    "        while total>0:\n",
    "            # left to right\n",
    "            for i in range(left, right+1):\n",
    "                res.append(matrix[up][i])\n",
    "                total -= 1\n",
    "                if total == 0:\n",
    "                    return res\n",
    "            up += 1\n",
    "\n",
    "            # up to down\n",
    "            for i in range(up, down+1):\n",
    "                print(\"up to down:\", i)\n",
    "                res.append(matrix[i][right])\n",
    "                total -= 1\n",
    "                if total == 0:\n",
    "                    return res\n",
    "            right -= 1\n",
    "\n",
    "            # right to left\n",
    "            for i in range(right, left-1, -1):\n",
    "                res.append(matrix[down][i])\n",
    "                total -= 1\n",
    "                if total == 0:\n",
    "                    return res\n",
    "            down -= 1\n",
    "\n",
    "            # down to up\n",
    "            for i in range(down, up-1, -1):\n",
    "                res.append(matrix[i][left])\n",
    "                total -= 1\n",
    "                if total == 0:\n",
    "                    return res\n",
    "            left += 1\n",
    "        # return res\n",
    "matrix = [[1,2,3,4],[5,6,7,8],[9,10,11,12]]\n",
    "s = Solution_54()\n",
    "s.spiralOrder(matrix)"
   ]
  },
  {
   "cell_type": "code",
   "execution_count": 2,
   "metadata": {},
   "outputs": [
    {
     "name": "stdout",
     "output_type": "stream",
     "text": [
      "5\n",
      "4\n",
      "3\n",
      "2\n",
      "1\n"
     ]
    }
   ],
   "source": [
    "for i in range(5, 1-1, -1):\n",
    "    print(i)"
   ]
  },
  {
   "cell_type": "markdown",
   "metadata": {},
   "source": [
    "Here is 200.\n",
    "200. Number of Islands\n",
    "Medium\n",
    "\n",
    "Given an m x n 2D binary grid grid which represents a map of '1's (land) and '0's (water), return the number of islands.\n",
    "\n",
    "An island is surrounded by water and is formed by connecting adjacent lands horizontally or vertically. You may assume all four edges of the grid are all surrounded by water.\n",
    "\n",
    "adjacent:adj.与…毗连的；邻近的\n",
    "horizontally:adv.水平地\n",
    "vertically:adv.垂直\n",
    "\n",
    "Example 1:\n",
    "\n",
    "Input: grid = [\n",
    "  [\"1\",\"1\",\"1\",\"1\",\"0\"],\n",
    "  [\"1\",\"1\",\"0\",\"1\",\"0\"],\n",
    "  [\"1\",\"1\",\"0\",\"0\",\"0\"],\n",
    "  [\"0\",\"0\",\"0\",\"0\",\"0\"]\n",
    "]\n",
    "Output: 1\n",
    "\n",
    "Example 2:\n",
    "\n",
    "Input: grid = [\n",
    "  [\"1\",\"1\",\"0\",\"0\",\"0\"],\n",
    "  [\"1\",\"1\",\"0\",\"0\",\"0\"],\n",
    "  [\"0\",\"0\",\"1\",\"0\",\"0\"],\n",
    "  [\"0\",\"0\",\"0\",\"1\",\"1\"]\n",
    "]\n",
    "Output: 3\n",
    "\n",
    " \n",
    "\n",
    "Constraints:\n",
    "\n",
    "    m == grid.length\n",
    "    n == grid[i].length\n",
    "    1 <= m, n <= 300\n",
    "    grid[i][j] is '0' or '1'.\n",
    "\n",
    "\n",
    "class Solution:\n",
    "    def numIslands(self, grid: List[List[str]]) -> int:"
   ]
  },
  {
   "cell_type": "code",
   "execution_count": 13,
   "metadata": {},
   "outputs": [],
   "source": [
    "class Solution200:\n",
    "    def numIslands(self, grid: List[List[str]]) -> int:\n",
    "        if not grid:return 0\n",
    "        res = 0\n",
    "\n",
    "        def dfs(grid, row, col):\n",
    "            if row < 0 or row >= len(grid) or col < 0 or col >= len(grid[0]) or grid[row][col] != '1':\n",
    "                return\n",
    "            grid[row][col] = '2'\n",
    "            dfs(grid, row+1, col)\n",
    "            dfs(grid, row-1, col)\n",
    "            dfs(grid, row, col+1)\n",
    "            dfs(grid, row, col-1)\n",
    "\n",
    "        for i in range(len(grid)):\n",
    "            for j in range(len(grid[0])):\n",
    "                if grid[i][j] == '1':\n",
    "                    dfs(grid, i, j)\n",
    "                    res += 1\n",
    "        return res"
   ]
  },
  {
   "cell_type": "code",
   "execution_count": 14,
   "metadata": {},
   "outputs": [
    {
     "data": {
      "text/plain": [
       "3"
      ]
     },
     "execution_count": 14,
     "metadata": {},
     "output_type": "execute_result"
    }
   ],
   "source": [
    "grid = [\n",
    "  [\"1\",\"1\",\"0\",\"0\",\"0\"],\n",
    "  [\"1\",\"1\",\"0\",\"0\",\"0\"],\n",
    "  [\"0\",\"0\",\"1\",\"0\",\"0\"],\n",
    "  [\"0\",\"0\",\"0\",\"1\",\"1\"]\n",
    "]\n",
    "s = Solution200()\n",
    "s.numIslands(grid)"
   ]
  }
 ],
 "metadata": {
  "kernelspec": {
   "display_name": "Python 3.7.13 ('base')",
   "language": "python",
   "name": "python3"
  },
  "language_info": {
   "codemirror_mode": {
    "name": "ipython",
    "version": 3
   },
   "file_extension": ".py",
   "mimetype": "text/x-python",
   "name": "python",
   "nbconvert_exporter": "python",
   "pygments_lexer": "ipython3",
   "version": "3.7.13"
  },
  "orig_nbformat": 4,
  "vscode": {
   "interpreter": {
    "hash": "b349af1b1aaaa466089a61e9eed9b41212ce21d579615039c57f22cd5b13cdee"
   }
  }
 },
 "nbformat": 4,
 "nbformat_minor": 2
}
