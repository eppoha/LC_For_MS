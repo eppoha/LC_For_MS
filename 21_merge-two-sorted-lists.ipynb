{
 "cells": [
  {
   "cell_type": "markdown",
   "metadata": {},
   "source": [
    "21. Merge Two Sorted Lists\n",
    "Easy\n",
    "\n",
    "You are given the heads of two sorted linked lists list1 and list2.\n",
    "\n",
    "Merge the two lists in a one sorted list. The list should be made by splicing together the nodes of the first two lists.\n",
    "\n",
    "Return the head of the merged linked list.\n",
    "\n",
    " \n",
    "\n",
    "Example 1:\n",
    "\n",
    "Input: list1 = [1,2,4], list2 = [1,3,4]\n",
    "Output: [1,1,2,3,4,4]\n",
    "\n",
    "Example 2:\n",
    "\n",
    "Input: list1 = [], list2 = []\n",
    "Output: []\n",
    "\n",
    "Example 3:\n",
    "\n",
    "Input: list1 = [], list2 = [0]\n",
    "Output: [0]\n",
    "\n",
    "21. 合并两个有序链表\n",
    "\n",
    "将两个升序链表合并为一个新的 升序 链表并返回。新链表是通过拼接给定的两个链表的所有节点组成的。 \n",
    "\n",
    " \n",
    "\n",
    "示例 1：\n",
    "\n",
    "输入：l1 = [1,2,4], l2 = [1,3,4]\n",
    "输出：[1,1,2,3,4,4]\n",
    "\n",
    "示例 2：\n",
    "\n",
    "输入：l1 = [], l2 = []\n",
    "输出：[]\n",
    "\n",
    "示例 3：\n",
    "\n",
    "输入：l1 = [], l2 = [0]\n",
    "输出：[0]\n"
   ]
  },
  {
   "cell_type": "markdown",
   "metadata": {},
   "source": [
    "# Definition for singly-linked list.\n",
    "# class ListNode:\n",
    "#     def __init__(self, val=0, next=None):\n",
    "#         self.val = val\n",
    "#         self.next = next\n",
    "class Solution:\n",
    "    def mergeTwoLists(self, list1: Optional[ListNode], list2: Optional[ListNode]) -> Optional[ListNode]:"
   ]
  },
  {
   "cell_type": "markdown",
   "metadata": {},
   "source": [
    "1. 前言\n",
    "\n",
    "递归解法总是给人一种“只可意会不可言传”的感觉，代码一看就懂，自己动手一写就呆住了，很难受。究其原因，一是我们练习不够，二是理解不够。\n",
    "2. 什么是递归？\n",
    "\n",
    "什么是递归呢？函数在运行时调用自己，这个函数就叫递归函数，调用的过程叫做递归。\n",
    "比如定义函数 f(x)=x+f(x−1)：\n",
    "\n",
    "def f(x):\n",
    "    return x + f(x-1)\n",
    "\n",
    "如果代入 f(2)：\n",
    "\n",
    "    返回 2+f(1)；\n",
    "    调用 f(1)；\n",
    "    返回 1+f(0)；\n",
    "    调用 f(0)；\n",
    "    返回 0+f(−1)\n",
    "    ......\n",
    "\n",
    "这时程序会无休止地运行下去，直到崩溃。\n",
    "如果我们加一个判断语句 x > 0：\n",
    "\n",
    "def f(x):\n",
    "    if x > 0:\n",
    "        return x + f(x-1)\n",
    "    else:  # f(0) = 0\n",
    "        return 0\n",
    "\n",
    "这次计算 f(2)=2+f(1)=2+1+f(0)=2+1+0=3。我们从中总结两个规律：\n",
    "\n",
    "    递归函数必须要有终止条件，否则会出错；\n",
    "    递归函数先不断调用自身，直到遇到终止条件后进行回溯，最终返回答案。\n",
    "\n",
    "3. 递归解法\n",
    "\n",
    "根据以上规律考虑本题目：\n",
    "\n",
    "    终止条件：当两个链表都为空时，表示我们对链表已合并完成。\n",
    "    如何递归：我们判断 l1 和 l2 头结点哪个更小，然后较小结点的 next 指针指向其余结点的合并结果。（调用递归）\n"
   ]
  },
  {
   "cell_type": "code",
   "execution_count": 1,
   "metadata": {},
   "outputs": [],
   "source": [
    "# Definition for singly-linked list.\n",
    "from typing import List\n",
    "from typing import Optional\n",
    "class ListNode:\n",
    "    def __init__(self, val=0, next=None):\n",
    "        self.val = val\n",
    "        self.next = next\n",
    "\n",
    "class PrintListNode:\n",
    "    def PLN(self, head):\n",
    "        res = []\n",
    "        while head:\n",
    "            res.append(head.val)\n",
    "            head = head.next\n",
    "        print(res)\n",
    "\n",
    "class Solution21:\n",
    "    def mergeTwoLists(self, list1: Optional[ListNode], list2: Optional[ListNode]) -> Optional[ListNode]:\n",
    "        if not list1: return list2\n",
    "        if not list2:return list1\n",
    "        if list1.val <= list2.val:\n",
    "            list1.next = self.mergeTwoLists(list1.next, list2)\n",
    "            return list1\n",
    "        else:\n",
    "            list2.next = self.mergeTwoLists(list1, list2.next)\n",
    "            return list2\n",
    "\n"
   ]
  },
  {
   "cell_type": "code",
   "execution_count": 2,
   "metadata": {},
   "outputs": [],
   "source": [
    "head1 = ListNode(1)\n",
    "node1 = ListNode(1)\n",
    "node2 = ListNode(2)\n",
    "node3 = ListNode(3)\n",
    "node4 = ListNode(4)\n",
    "head1.next = node1\n",
    "node1.next = node2\n",
    "node2.next = node3\n",
    "node3.next = node4\n",
    "\n",
    "head2 = ListNode(1)\n",
    "node5 = ListNode(5)\n",
    "node6 = ListNode(6)\n",
    "node7 = ListNode(7)\n",
    "head2.next = node5\n",
    "node5.next = node6\n",
    "node6.next = node7\n"
   ]
  },
  {
   "cell_type": "code",
   "execution_count": 4,
   "metadata": {},
   "outputs": [
    {
     "name": "stdout",
     "output_type": "stream",
     "text": [
      "[1, 1, 1, 2, 3, 4, 5, 6, 7]\n"
     ]
    }
   ],
   "source": [
    "s = Solution21()\n",
    "p = PrintListNode()\n",
    "p.PLN(s.mergeTwoLists(head1, head2))"
   ]
  },
  {
   "cell_type": "markdown",
   "metadata": {},
   "source": [
    "344. Reverse String\n",
    "Easy\n",
    "\n",
    "Write a function that reverses a string. The input string is given as an array of characters s.\n",
    "\n",
    "You must do this by modifying the input array in-place with O(1) extra memory.\n",
    "\n",
    " \n",
    "\n",
    "Example 1:\n",
    "\n",
    "Input: s = [\"h\",\"e\",\"l\",\"l\",\"o\"]\n",
    "Output: [\"o\",\"l\",\"l\",\"e\",\"h\"]\n",
    "\n",
    "Example 2:\n",
    "\n",
    "Input: s = [\"H\",\"a\",\"n\",\"n\",\"a\",\"h\"]\n",
    "Output: [\"h\",\"a\",\"n\",\"n\",\"a\",\"H\"]\n",
    "\n",
    " \n",
    "\n",
    "Constraints:\n",
    "\n",
    "    1 <= s.length <= 105\n",
    "    s[i] is a printable ascii character.\n",
    "\n",
    "\n",
    "\n",
    "void helper(vector<char>&s,int i, int j)\n",
    "    {\n",
    "        if(i==(s.size()/2)) // only iterate through half of the array as we will be swapping the characters i.e not using extra space\n",
    "            return;\n",
    "        helper(s,i+1,j-1);\n",
    "        char temp=s[i];\n",
    "        s[i]=s[j];\n",
    "        s[j]=temp;\n",
    "    }\n",
    "    void reverseString(vector<char>& s) {\n",
    "        helper(s,0,s.size()-1);\n",
    "    }"
   ]
  },
  {
   "cell_type": "code",
   "execution_count": 16,
   "metadata": {},
   "outputs": [
    {
     "name": "stdout",
     "output_type": "stream",
     "text": [
      "None\n"
     ]
    }
   ],
   "source": [
    "class Solution344:\n",
    "    def fun1(self, s, left, right):\n",
    "        if left > right:\n",
    "            return s\n",
    "        else:\n",
    "            s[left], s[right] = s[right], s[left]\n",
    "            return self.fun1(s, left+1, right-1)\n",
    "        \n",
    "    def reverseString(self, s: List[str]) -> None:\n",
    "        \"\"\"\n",
    "        Do not return anything, modify s in-place instead.\n",
    "        \"\"\"\n",
    "        self.fun1(s, 0, len(s)-1)\n",
    "        \n",
    "# I don't know why there is None result.\n",
    "s = Solution344()\n",
    "s1 = [\"h\",\"e\",\"l\",\"l\",\"o\"]\n",
    "print(s.reverseString(s1))\n"
   ]
  }
 ],
 "metadata": {
  "kernelspec": {
   "display_name": "Python 3.7.13 ('base')",
   "language": "python",
   "name": "python3"
  },
  "language_info": {
   "codemirror_mode": {
    "name": "ipython",
    "version": 3
   },
   "file_extension": ".py",
   "mimetype": "text/x-python",
   "name": "python",
   "nbconvert_exporter": "python",
   "pygments_lexer": "ipython3",
   "version": "3.7.13"
  },
  "orig_nbformat": 4,
  "vscode": {
   "interpreter": {
    "hash": "b349af1b1aaaa466089a61e9eed9b41212ce21d579615039c57f22cd5b13cdee"
   }
  }
 },
 "nbformat": 4,
 "nbformat_minor": 2
}
