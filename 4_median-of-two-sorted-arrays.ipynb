{
 "cells": [
  {
   "cell_type": "markdown",
   "metadata": {},
   "source": [
    "4. Median of Two Sorted Arrays\n",
    "Hard\n",
    "\n",
    "Given two sorted arrays nums1 and nums2 of size m and n respectively, return the median of the two sorted arrays.\n",
    "\n",
    "The overall run time complexity should be O(log (m+n)).\n",
    "\n",
    " \n",
    "\n",
    "Example 1:\n",
    "\n",
    "Input: nums1 = [1,3], nums2 = [2]\n",
    "Output: 2.00000\n",
    "Explanation: merged array = [1,2,3] and median is 2.\n",
    "\n",
    "Example 2:\n",
    "\n",
    "Input: nums1 = [1,2], nums2 = [3,4]\n",
    "Output: 2.50000\n",
    "Explanation: merged array = [1,2,3,4] and median is (2 + 3) / 2 = 2.5.\n",
    "\n",
    "\n",
    "class Solution:\n",
    "    def findMedianSortedArrays(self, nums1: List[int], nums2: List[int]) -> float:"
   ]
  },
  {
   "cell_type": "code",
   "execution_count": 14,
   "metadata": {},
   "outputs": [],
   "source": [
    "from typing import List\n",
    "class Solution4:\n",
    "    def findMedianSortedArrays(self, nums1: List[int], nums2: List[int]) -> float:\n",
    "        ls = []\n",
    "        for i in nums1:\n",
    "            ls.append(i)\n",
    "        for i in nums2:\n",
    "            ls.append(i)\n",
    "        \n",
    "        ls.sort()\n",
    "        print(ls)\n",
    "        if len(ls) % 2 == 0:\n",
    "            index1 = len(ls)//2 -1 \n",
    "            index2 = len(ls)//2\n",
    "            return float(\n",
    "                (\n",
    "                    ls[index1] + ls[index2]\n",
    "                    )/2\n",
    "                    )\n",
    "        else:\n",
    "            return float(ls[len(ls)//2])\n",
    "    def findMedianSortedArrays1(self, nums1: List[int], nums2: List[int]) -> float:\n",
    "        l=0\n",
    "        r=0\n",
    "        arr=[]\n",
    "        # sorted before append\n",
    "        while(l<len(nums1) and r<len(nums2)):\n",
    "            if(nums1[l]<nums2[r]):\n",
    "                arr.append(nums1[l])\n",
    "                l+=1\n",
    "            else:\n",
    "                arr.append(nums2[r])\n",
    "                r+=1\n",
    "        # If no nums1 or no nums2\n",
    "        while(l<len(nums1)):\n",
    "            arr.append(nums1[l])\n",
    "            l+=1\n",
    "        while(r<len(nums2)):\n",
    "            arr.append(nums2[r])\n",
    "            r+=1\n",
    "            \n",
    "        n=len(arr)\n",
    "        if(n%2==1):\n",
    "            return arr[n//2]\n",
    "        else:\n",
    "            avg=(arr[n//2 -1]+arr[n//2])/2\n",
    "            return avg\n",
    "    # Also we can use numpy\n",
    "    \n",
    "    def findMedianSortedArrays2(self, nums1: List[int], nums2: List[int]) -> float:\n",
    "        import numpy as np\n",
    "        arr=np.concatenate((nums1, nums2))\n",
    "        arr.sort()\n",
    "        return np.median(arr)\n",
    "\n",
    "s = Solution4()"
   ]
  },
  {
   "cell_type": "code",
   "execution_count": 10,
   "metadata": {},
   "outputs": [
    {
     "name": "stdout",
     "output_type": "stream",
     "text": [
      "[1, 2, 3, 4]\n"
     ]
    },
    {
     "data": {
      "text/plain": [
       "2.5"
      ]
     },
     "execution_count": 10,
     "metadata": {},
     "output_type": "execute_result"
    }
   ],
   "source": [
    "nums1 = [1,2]\n",
    "nums2 = [3,4]\n",
    "s.findMedianSortedArrays(nums1, nums2)"
   ]
  },
  {
   "cell_type": "code",
   "execution_count": 15,
   "metadata": {},
   "outputs": [
    {
     "name": "stdout",
     "output_type": "stream",
     "text": [
      "[1, 2, 3]\n"
     ]
    },
    {
     "data": {
      "text/plain": [
       "2.0"
      ]
     },
     "execution_count": 15,
     "metadata": {},
     "output_type": "execute_result"
    }
   ],
   "source": [
    "nums1 = [1,3]\n",
    "nums2 = [2]\n",
    "s.findMedianSortedArrays(nums1, nums2)"
   ]
  }
 ],
 "metadata": {
  "kernelspec": {
   "display_name": "Python 3.7.13 ('base')",
   "language": "python",
   "name": "python3"
  },
  "language_info": {
   "codemirror_mode": {
    "name": "ipython",
    "version": 3
   },
   "file_extension": ".py",
   "mimetype": "text/x-python",
   "name": "python",
   "nbconvert_exporter": "python",
   "pygments_lexer": "ipython3",
   "version": "3.7.13"
  },
  "orig_nbformat": 4,
  "vscode": {
   "interpreter": {
    "hash": "b349af1b1aaaa466089a61e9eed9b41212ce21d579615039c57f22cd5b13cdee"
   }
  }
 },
 "nbformat": 4,
 "nbformat_minor": 2
}
