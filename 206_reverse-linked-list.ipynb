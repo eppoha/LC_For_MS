{
 "cells": [
  {
   "cell_type": "markdown",
   "metadata": {},
   "source": [
    "206. Reverse Linked List\n",
    "Easy\n",
    "\n",
    "Given the head of a singly linked list, reverse the list, and return the reversed list.\n",
    "\n",
    " \n",
    "\n",
    "Example 1:\n",
    "\n",
    "Input: head = [1,2,3,4,5]\n",
    "Output: [5,4,3,2,1]\n",
    "\n",
    "Example 2:\n",
    "\n",
    "Input: head = [1,2]\n",
    "Output: [2,1]\n",
    "\n",
    "Example 3:\n",
    "\n",
    "Input: head = []\n",
    "Output: []\n",
    "\n",
    " \n",
    "\n",
    "Constraints:\n",
    "\n",
    "    The number of nodes in the list is the range [0, 5000].\n",
    "    -5000 <= Node.val <= 5000\n",
    "\n",
    " \n",
    "\n",
    "Follow up: A linked list can be reversed either iteratively or recursively. Could you implement both?\n",
    "\n",
    "\n",
    "206. 反转链表\n",
    "给你单链表的头节点 head ，请你反转链表，并返回反转后的链表。\n",
    "\n",
    " \n",
    "\n",
    "示例 1：\n",
    "\n",
    "输入：head = [1,2,3,4,5]\n",
    "输出：[5,4,3,2,1]\n",
    "\n",
    "示例 2：\n",
    "\n",
    "输入：head = [1,2]\n",
    "输出：[2,1]\n",
    "\n",
    "示例 3：\n",
    "\n",
    "输入：head = []\n",
    "输出：[]\n",
    "\n",
    " \n",
    "\n",
    "提示：\n",
    "\n",
    "    链表中节点的数目范围是 [0, 5000]\n",
    "    -5000 <= Node.val <= 5000\n",
    "\n",
    " \n",
    "\n",
    "进阶：链表可以选用迭代或递归方式完成反转。你能否用两种方法解决这道题？\n",
    "\n",
    "class Solution:\n",
    "    def reverseList(self, head: Optional[ListNode]) -> Optional[ListNode]:\n",
    "        if not head:return head\n",
    "        cur = head\n",
    "        "
   ]
  },
  {
   "cell_type": "code",
   "execution_count": 2,
   "metadata": {},
   "outputs": [],
   "source": [
    "# copy class of ListNode  from 2.\n",
    "class ListNode:\n",
    "    def __init__(self, val=0, next=None):\n",
    "        self.val = val\n",
    "        self.next = next\n",
    "\n",
    "class PrintListNode:\n",
    "    def PLN(self, head):\n",
    "        res = []\n",
    "        while head:\n",
    "            res.append(head.val)\n",
    "            head = head.next\n",
    "        print(res)\n"
   ]
  },
  {
   "cell_type": "code",
   "execution_count": 11,
   "metadata": {},
   "outputs": [],
   "source": [
    "head1 = ListNode(1)\n",
    "node1 = ListNode(1)\n",
    "node2 = ListNode(2)\n",
    "node3 = ListNode(3)\n",
    "node4 = ListNode(4)\n",
    "head1.next = node1\n",
    "node1.next = node2\n",
    "node2.next = node3\n",
    "node3.next = node4\n",
    "\n",
    "head2 = ListNode(1)\n",
    "node5 = ListNode(5)\n",
    "node6 = ListNode(6)\n",
    "node7 = ListNode(7)\n",
    "head2.next = node5\n",
    "node5.next = node6\n",
    "node6.next = node7"
   ]
  },
  {
   "cell_type": "code",
   "execution_count": 4,
   "metadata": {},
   "outputs": [
    {
     "name": "stdout",
     "output_type": "stream",
     "text": [
      "[1, 1, 2, 3, 4]\n",
      "[1, 5, 6, 7]\n"
     ]
    }
   ],
   "source": [
    "pln = PrintListNode()\n",
    "pln.PLN(head1)\n",
    "pln.PLN(head2)"
   ]
  },
  {
   "cell_type": "code",
   "execution_count": 13,
   "metadata": {},
   "outputs": [],
   "source": [
    "from re import S\n",
    "from typing import List\n",
    "from typing import Optional\n",
    "\n",
    "class Solution206:\n",
    "    # 迭代\n",
    "    def reverseList(self, head: Optional[ListNode]) -> Optional[ListNode]:\n",
    "        if not head:return head\n",
    "        cur = head\n",
    "        tmp1 = None\n",
    "        while cur:\n",
    "            tmp2 = cur.next\n",
    "            cur.next = tmp1\n",
    "            tmp1 = cur\n",
    "            cur = tmp2\n",
    "        return tmp1\n",
    "    # 递归\n",
    "    def reverseList_1(self, head: Optional[ListNode]) -> Optional[ListNode]:\n",
    "        if not head or not head.next:return head\n",
    "        new_head = self.reverseList_1(head.next)\n",
    "        head.next.next = head\n",
    "        head.next = None\n",
    "        return new_head\n"
   ]
  },
  {
   "cell_type": "markdown",
   "metadata": {},
   "source": [
    " /**\n",
    "     * 以链表1->2->3->4->5举例\n",
    "     * @param head\n",
    "     * @return\n",
    "     */\n",
    "    public ListNode reverseList(ListNode head) {\n",
    "        if (head == null || head.next == null) {\n",
    "            /*\n",
    "                直到当前节点的下一个节点为空时返回当前节点\n",
    "                由于5没有下一个节点了，所以此处返回节点5\n",
    "             */\n",
    "            return head;\n",
    "        }\n",
    "        //递归传入下一个节点，目的是为了到达最后一个节点\n",
    "        ListNode newHead = reverseList(head.next);\n",
    "                /*\n",
    "            第一轮出栈，head为5，head.next为空，返回5\n",
    "            第二轮出栈，head为4，head.next为5，执行head.next.next=head也就是5.next=4，\n",
    "                      把当前节点的子节点的子节点指向当前节点\n",
    "                      此时链表为1->2->3->4<->5，由于4与5互相指向，所以此处要断开4.next=null\n",
    "                      此时链表为1->2->3->4<-5\n",
    "                      返回节点5\n",
    "            第三轮出栈，head为3，head.next为4，执行head.next.next=head也就是4.next=3，\n",
    "                      此时链表为1->2->3<->4<-5，由于3与4互相指向，所以此处要断开3.next=null\n",
    "                      此时链表为1->2->3<-4<-5\n",
    "                      返回节点5\n",
    "            第四轮出栈，head为2，head.next为3，执行head.next.next=head也就是3.next=2，\n",
    "                      此时链表为1->2<->3<-4<-5，由于2与3互相指向，所以此处要断开2.next=null\n",
    "                      此时链表为1->2<-3<-4<-5\n",
    "                      返回节点5\n",
    "            第五轮出栈，head为1，head.next为2，执行head.next.next=head也就是2.next=1，\n",
    "                      此时链表为1<->2<-3<-4<-5，由于1与2互相指向，所以此处要断开1.next=null\n",
    "                      此时链表为1<-2<-3<-4<-5\n",
    "                      返回节点5\n",
    "            出栈完成，最终头节点5->4->3->2->1\n",
    "         */\n",
    "        head.next.next = head;\n",
    "        head.next = null;\n",
    "        return newHead;\n",
    "    }"
   ]
  },
  {
   "cell_type": "code",
   "execution_count": 14,
   "metadata": {},
   "outputs": [
    {
     "name": "stdout",
     "output_type": "stream",
     "text": [
      "[4, 3, 2, 1, 1]\n"
     ]
    }
   ],
   "source": [
    "s = Solution206()\n",
    "# pln.PLN(s.reverseList(head1))\n",
    "pln.PLN(s.reverseList_1(head1))\n"
   ]
  }
 ],
 "metadata": {
  "kernelspec": {
   "display_name": "Python 3.7.13 ('base')",
   "language": "python",
   "name": "python3"
  },
  "language_info": {
   "codemirror_mode": {
    "name": "ipython",
    "version": 3
   },
   "file_extension": ".py",
   "mimetype": "text/x-python",
   "name": "python",
   "nbconvert_exporter": "python",
   "pygments_lexer": "ipython3",
   "version": "3.7.13"
  },
  "orig_nbformat": 4,
  "vscode": {
   "interpreter": {
    "hash": "b349af1b1aaaa466089a61e9eed9b41212ce21d579615039c57f22cd5b13cdee"
   }
  }
 },
 "nbformat": 4,
 "nbformat_minor": 2
}
