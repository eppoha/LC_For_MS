{
 "cells": [
  {
   "cell_type": "markdown",
   "metadata": {},
   "source": [
    "53. Maximum Subarray\n",
    "Medium\n",
    "\n",
    "Given an integer array nums, find the contiguous subarray (containing at least one number) which has the largest sum and return its sum.\n",
    "\n",
    "A subarray is a contiguous part of an array.\n",
    "\n",
    " \n",
    "\n",
    "Example 1:\n",
    "\n",
    "Input: nums = [-2,1,-3,4,-1,2,1,-5,4]\n",
    "Output: 6\n",
    "Explanation: [4,-1,2,1] has the largest sum = 6.\n",
    "\n",
    "Example 2:\n",
    "\n",
    "Input: nums = [1]\n",
    "Output: 1\n",
    "\n",
    "Example 3:\n",
    "\n",
    "Input: nums = [5,4,-1,7,8]\n",
    "Output: 23\n",
    "\n",
    " \n",
    "\n",
    "Constraints:\n",
    "\n",
    "    1 <= nums.length <= 105\n",
    "    -104 <= nums[i] <= 104\n"
   ]
  },
  {
   "cell_type": "markdown",
   "metadata": {},
   "source": [
    "53. 最大子数组和\n",
    "\n",
    "给你一个整数数组 nums ，请你找出一个具有最大和的连续子数组（子数组最少包含一个元素），返回其最大和。\n",
    "\n",
    "子数组 是数组中的一个连续部分。\n",
    "\n",
    " \n",
    "\n",
    "示例 1：\n",
    "\n",
    "输入：nums = [-2,1,-3,4,-1,2,1,-5,4]\n",
    "输出：6\n",
    "解释：连续子数组 [4,-1,2,1] 的和最大，为 6 。\n",
    "\n",
    "示例 2：\n",
    "\n",
    "输入：nums = [1]\n",
    "输出：1\n",
    "\n",
    "示例 3：\n",
    "\n",
    "输入：nums = [5,4,-1,7,8]\n",
    "输出：23\n",
    "\n",
    " \n",
    "\n",
    "提示：\n",
    "\n",
    "    1 <= nums.length <= 105\n",
    "    -104 <= nums[i] <= 104\n"
   ]
  },
  {
   "cell_type": "code",
   "execution_count": 8,
   "metadata": {},
   "outputs": [],
   "source": [
    "from typing import List\n",
    "class Solution53:\n",
    "    def maxSubArray(self, nums: List[int]) -> int:\n",
    "        for i in range(1, len(nums)):\n",
    "            # print(\"nums1:\",nums)\n",
    "            nums[i] = nums[i] + max(nums[i-1], 0)\n",
    "            print(\"nums2:\",nums)\n",
    "        return max(nums)\n"
   ]
  },
  {
   "cell_type": "code",
   "execution_count": 9,
   "metadata": {},
   "outputs": [
    {
     "name": "stdout",
     "output_type": "stream",
     "text": [
      "nums2: [-2, 1, -3, 4, -1, 2, 1, -5, 4]\n",
      "nums2: [-2, 1, -2, 4, -1, 2, 1, -5, 4]\n",
      "nums2: [-2, 1, -2, 4, -1, 2, 1, -5, 4]\n",
      "nums2: [-2, 1, -2, 4, 3, 2, 1, -5, 4]\n",
      "nums2: [-2, 1, -2, 4, 3, 5, 1, -5, 4]\n",
      "nums2: [-2, 1, -2, 4, 3, 5, 6, -5, 4]\n",
      "nums2: [-2, 1, -2, 4, 3, 5, 6, 1, 4]\n",
      "nums2: [-2, 1, -2, 4, 3, 5, 6, 1, 5]\n"
     ]
    },
    {
     "data": {
      "text/plain": [
       "6"
      ]
     },
     "execution_count": 9,
     "metadata": {},
     "output_type": "execute_result"
    }
   ],
   "source": [
    "nums = [-2,1,-3,4,-1,2,1,-5,4]\n",
    "# nums = [5,4,-1,7,8]\n",
    "s = Solution53()\n",
    "s.maxSubArray(nums)"
   ]
  },
  {
   "cell_type": "code",
   "execution_count": 10,
   "metadata": {},
   "outputs": [],
   "source": [
    "from typing import List\n",
    "class Solution53_2:\n",
    "    def maxSubArray(self, nums: List[int]) -> int:\n",
    "        if max(nums) < 0:\n",
    "            return max(nums)\n",
    "        else:\n",
    "            # dp stores sum of the before numbers\n",
    "            dp = [0] * len(nums)\n",
    "            dp[0] = nums[0]\n",
    "            for i in range(1, len(nums)):\n",
    "                # if the sum before i-1 still less than 0, we will neglect it.\n",
    "                if dp[i - 1] < 0:\n",
    "                    dp[i] = nums[i]\n",
    "                else:\n",
    "                    dp[i] += dp[i-1] + nums[i]\n",
    "        return max(dp)\n"
   ]
  },
  {
   "cell_type": "code",
   "execution_count": 11,
   "metadata": {},
   "outputs": [
    {
     "data": {
      "text/plain": [
       "6"
      ]
     },
     "execution_count": 11,
     "metadata": {},
     "output_type": "execute_result"
    }
   ],
   "source": [
    "nums = [-2,1,-3,4,-1,2,1,-5,4]\n",
    "# nums = [5,4,-1,7,8]\n",
    "s = Solution53_2()\n",
    "s.maxSubArray(nums)"
   ]
  },
  {
   "cell_type": "markdown",
   "metadata": {},
   "source": [
    "next step, return the list of result?"
   ]
  }
 ],
 "metadata": {
  "kernelspec": {
   "display_name": "Python 3.7.13 ('base')",
   "language": "python",
   "name": "python3"
  },
  "language_info": {
   "codemirror_mode": {
    "name": "ipython",
    "version": 3
   },
   "file_extension": ".py",
   "mimetype": "text/x-python",
   "name": "python",
   "nbconvert_exporter": "python",
   "pygments_lexer": "ipython3",
   "version": "3.7.13"
  },
  "orig_nbformat": 4,
  "vscode": {
   "interpreter": {
    "hash": "b349af1b1aaaa466089a61e9eed9b41212ce21d579615039c57f22cd5b13cdee"
   }
  }
 },
 "nbformat": 4,
 "nbformat_minor": 2
}
