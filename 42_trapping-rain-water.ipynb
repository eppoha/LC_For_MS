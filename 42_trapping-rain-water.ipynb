{
 "cells": [
  {
   "cell_type": "markdown",
   "metadata": {},
   "source": [
    "42. Trapping Rain Water\n",
    "Hard\n",
    "\n",
    "Given n non-negative integers representing an elevation map where the width of each bar is 1, compute how much water it can trap after raining.\n",
    "\n",
    " \n",
    "\n",
    "Example 1:\n",
    "\n",
    "Input: height = [0,1,0,2,1,0,1,3,2,1,2,1]\n",
    "Output: 6\n",
    "Explanation: The above elevation map (black section) is represented by array [0,1,0,2,1,0,1,3,2,1,2,1]. In this case, 6 units of rain water (blue section) are being trapped.\n",
    "\n",
    "Example 2:\n",
    "\n",
    "Input: height = [4,2,0,3,2,5]\n",
    "Output: 9\n",
    "\n",
    " \n",
    "\n",
    "Constraints:\n",
    "\n",
    "    n == height.length\n",
    "    1 <= n <= 2 * 104\n",
    "    0 <= height[i] <= 105\n",
    "\n"
   ]
  },
  {
   "cell_type": "markdown",
   "metadata": {},
   "source": [
    "Approach 1: Brute force\n",
    "\n",
    "Intuition\n",
    "\n",
    "Do as directed in question. For each element in the array, we find the maximum level of water it can trap after the rain, which is equal to the minimum of maximum height of bars on both the sides minus its own height.\n",
    "\n",
    "Algorithm\n",
    "\n",
    "    Initialize ans=0\n",
    "    Iterate the array from left to right:\n",
    "        Initialize left_max=0 and right_max=0\n",
    "        Iterate from the current element to the beginning of array updating:\n",
    "            left_max=max(left_max,height[j])\n",
    "        Iterate from the current element to the end of array updating:\n",
    "            ight_max=max(right_max,height[j])\n",
    "        Add min⁡(left_max,right_max)−height[i] to ans\n",
    "\n",
    "\n",
    "\n",
    "Approach 2: Dynamic Programming\n",
    "\n",
    "Intuition\n",
    "\n",
    "In brute force, we iterate over the left and right parts again and again just to find the highest bar size upto that index. But, this could be stored. Voila, dynamic programming.\n",
    "\n",
    "\n",
    "Algorithm\n",
    "\n",
    "    Find maximum height of bar from the left end upto an index i in the array left_max.\n",
    "    Find maximum height of bar from the right end upto an index i in the array right_max.\n",
    "    Iterate over the height array and update ans:\n",
    "        Add min⁡(left_max[i],right_max[i])−height[i]) to ans\n",
    "\n",
    "int trap(vector<int>& height)\n",
    "{\n",
    "    if(height.empty())\n",
    "        return 0;\n",
    "    int ans = 0;\n",
    "    int size = height.size();\n",
    "    vector<int> left_max(size), right_max(size);\n",
    "    left_max[0] = height[0];\n",
    "    for (int i = 1; i < size; i++) {\n",
    "        left_max[i] = max(height[i], left_max[i - 1]);\n",
    "    }\n",
    "    right_max[size - 1] = height[size - 1];\n",
    "    for (int i = size - 2; i >= 0; i--) {\n",
    "        right_max[i] = max(height[i], right_max[i + 1]);\n",
    "    }\n",
    "    for (int i = 1; i < size - 1; i++) {\n",
    "        ans += min(left_max[i], right_max[i]) - height[i];\n",
    "    }\n",
    "    return ans;\n",
    "}\n",
    "\n",
    "\n",
    "Complexity analysis\n",
    "\n",
    "    Time complexity: O(n).\n",
    "        We store the maximum heights upto a point using 2 iterations of O(n) each.\n",
    "        We finally update ans using the stored values in O(n).\n",
    "\n",
    "    Space complexity: O(n) extra space.\n",
    "        Additional O(n) space for left_max and right_max arrays than in Approach 1.\n",
    "\n",
    "\n",
    "Approach 4: Using 2 pointers\n",
    "\n",
    "Intuition\n",
    "n.直觉力；（一种）直觉\n",
    "网络直观；直觉的知识；直觉型\n",
    "\n",
    "As in Approach 2, instead of computing the left and right parts seperately, we may think of some way to do it in one iteration. From the figure in dynamic programming approach, notice that as long as right_max[i]>left_max[i](from element 0 to 6), the water trapped depends upon the left_max, and similar is the case when left_max[i]>right_max[i](from element 8 to 11). So, we can say that if there is a larger bar at one end (say right), we are assured that the water trapped would be dependant on height of bar in current direction (from left to right). As soon as we find the bar at other end (right) is smaller, we start iterating in opposite direction (from right to left). We must maintain left_max and right_max during the iteration, but now we can do it in one iteration using 2 pointers, switching between the two.\n",
    "\n",
    "Algorithm\n",
    "\n",
    "    Initialize left pointer to 0 and right pointer to size-1\n",
    "\n",
    "    While left<right, do:\n",
    "        If height[left] is smaller than height[right]:\n",
    "            If height[left]≥left_max:\n",
    "                update left_max\n",
    "\n",
    "            Else:\n",
    "                add left_max−height[left] to ans\n",
    "            Add 1 to left.\n",
    "        Else\n",
    "            If height[right]≥right_max:\n",
    "                update right_max\n",
    "            Else \n",
    "                add right_max−height[right] to ans\n",
    "            Subtract 1 from right\n"
   ]
  },
  {
   "cell_type": "code",
   "execution_count": 32,
   "metadata": {},
   "outputs": [],
   "source": [
    "from turtle import left\n",
    "from typing import List\n",
    "from matplotlib import pyplot as plt\n",
    "%matplotlib inline\n",
    "class Solution42:\n",
    "    def trap1(self, height: List[int]) -> int:\n",
    "        areas = 0\n",
    "        max_l = max_r = 0\n",
    "        l = 0\n",
    "        r = len(height)-1\n",
    "        while l < r:\n",
    "            if height[l] < height[r]:\n",
    "                if height[l] > max_l:\n",
    "                    max_l = height[l]\n",
    "                else:\n",
    "                    areas += max_l - height[l]\n",
    "                l +=1\n",
    "            else:\n",
    "                if height[r] > max_r:\n",
    "                    max_r = height[r]\n",
    "                else:\n",
    "                    areas += max_r - height[r]\n",
    "                r -=1\n",
    "        return areas\n",
    "    def trap2(self, height: List[int]) -> int:\n",
    "        res = 0\n",
    "        size = len(height)\n",
    "        left_max = [0] * size\n",
    "        right_max = [0] * size\n",
    "\n",
    "        left_max[0] = height[0]\n",
    "        right_max[size-1] = height[size-1]\n",
    "\n",
    "        print(\"1:{},{}\".format(left_max, right_max))\n",
    "\n",
    "        for i in range(1, size):\n",
    "            left_max[i] = max(height[i], left_max[i-1])\n",
    "\n",
    "        for i in range(size-2, -1, -1):\n",
    "            right_max[i] = max(height[i], right_max[i+1])\n",
    "        print(\"2:{},{}\".format(left_max, right_max))\n",
    "\n",
    "        for i in range(1, size-1):\n",
    "            res += min(left_max[i], right_max[i]) - height[i]\n",
    "        return res\n",
    "    # If I compute the hole area and minus the shadow area?\n",
    "    # Can not contain left[0], so the below makes no sense.\n",
    "    def trap3(self, height: List[int]) -> int:\n",
    "        high = max(height)\n",
    "        width = len(height)\n",
    "        hole = high * width\n",
    "\n",
    "        origin = sum(height)\n",
    "        print(hole, origin)\n",
    "        return hole - origin\n",
    "    # Brute force\n",
    "    def trap4(self, height: List[int]) -> int:\n",
    "        res = 0\n",
    "        \n",
    "        for i in range(len(height)):\n",
    "            left_max = right_max = 0\n",
    "            tmp_left = []\n",
    "            for j in range(i, -1, -1):\n",
    "                left_max = max(left_max, height[j])\n",
    "                tmp_left.append(left_max)\n",
    "            print(i)\n",
    "            plt.plot(tmp_left)\n",
    "            for j in range(i, len(height)):\n",
    "                right_max = max(right_max, height[j])\n",
    "            res += min(left_max, right_max) - height[i]\n",
    "        return res\n"
   ]
  },
  {
   "cell_type": "code",
   "execution_count": 33,
   "metadata": {},
   "outputs": [
    {
     "name": "stdout",
     "output_type": "stream",
     "text": [
      "1:[0, 0, 0, 0, 0, 0, 0, 0, 0, 0, 0, 0],[0, 0, 0, 0, 0, 0, 0, 0, 0, 0, 0, 1]\n",
      "2:[0, 1, 1, 2, 2, 2, 2, 3, 3, 3, 3, 3],[3, 3, 3, 3, 3, 3, 3, 3, 2, 2, 2, 1]\n"
     ]
    },
    {
     "data": {
      "text/plain": [
       "6"
      ]
     },
     "execution_count": 33,
     "metadata": {},
     "output_type": "execute_result"
    }
   ],
   "source": [
    "height = [0,1,0,2,1,0,1,3,2,1,2,1]\n",
    "s = Solution42()\n",
    "s.trap2(height)"
   ]
  },
  {
   "cell_type": "code",
   "execution_count": 13,
   "metadata": {},
   "outputs": [
    {
     "name": "stdout",
     "output_type": "stream",
     "text": [
      "36 14\n"
     ]
    },
    {
     "data": {
      "text/plain": [
       "22"
      ]
     },
     "execution_count": 13,
     "metadata": {},
     "output_type": "execute_result"
    }
   ],
   "source": [
    "s.trap3(height)"
   ]
  },
  {
   "cell_type": "code",
   "execution_count": 34,
   "metadata": {},
   "outputs": [
    {
     "name": "stdout",
     "output_type": "stream",
     "text": [
      "0\n",
      "1\n",
      "2\n",
      "3\n",
      "4\n",
      "5\n",
      "6\n",
      "7\n",
      "8\n",
      "9\n",
      "10\n",
      "11\n"
     ]
    },
    {
     "data": {
      "text/plain": [
       "6"
      ]
     },
     "execution_count": 34,
     "metadata": {},
     "output_type": "execute_result"
    },
    {
     "data": {
      "image/png": "[encoded data removed]",
      "text/plain": [
       "<Figure size 640x480 with 1 Axes>"
      ]
     },
     "metadata": {},
     "output_type": "display_data"
    }
   ],
   "source": [
    "s.trap4(height)"
   ]
  },
  {
   "cell_type": "code",
   "execution_count": 27,
   "metadata": {},
   "outputs": [],
   "source": []
  },
  {
   "cell_type": "code",
   "execution_count": 28,
   "metadata": {},
   "outputs": [
    {
     "data": {
      "text/plain": [
       "[<matplotlib.lines.Line2D at 0x7f62bc24d390>]"
      ]
     },
     "execution_count": 28,
     "metadata": {},
     "output_type": "execute_result"
    },
    {
     "data": {
      "image/png": "[encoded data removed]",
      "text/plain": [
       "<Figure size 640x480 with 1 Axes>"
      ]
     },
     "metadata": {},
     "output_type": "display_data"
    }
   ],
   "source": [
    "plt.plot([1, 2, 3, 2, 1, 2, 3, 4, 5, 6, 5, 4, 3, 2, 1])"
   ]
  }
 ],
 "metadata": {
  "kernelspec": {
   "display_name": "Python 3.7.13 ('base')",
   "language": "python",
   "name": "python3"
  },
  "language_info": {
   "codemirror_mode": {
    "name": "ipython",
    "version": 3
   },
   "file_extension": ".py",
   "mimetype": "text/x-python",
   "name": "python",
   "nbconvert_exporter": "python",
   "pygments_lexer": "ipython3",
   "version": "3.7.13"
  },
  "orig_nbformat": 4,
  "vscode": {
   "interpreter": {
    "hash": "b349af1b1aaaa466089a61e9eed9b41212ce21d579615039c57f22cd5b13cdee"
   }
  }
 },
 "nbformat": 4,
 "nbformat_minor": 2
}
