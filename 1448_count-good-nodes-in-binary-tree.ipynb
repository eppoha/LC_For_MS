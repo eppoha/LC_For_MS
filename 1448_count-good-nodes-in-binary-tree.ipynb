{
 "cells": [
  {
   "cell_type": "markdown",
   "metadata": {},
   "source": [
    "1448. Count Good Nodes in Binary Tree\n",
    "Medium\n",
    "\n",
    "Given a binary tree root, a node X in the tree is named good if in the path from root to X there are no nodes with a value greater than X.\n",
    "\n",
    "Return the number of good nodes in the binary tree.\n",
    "\n",
    " \n",
    "\n",
    "Example 1:\n",
    "\n",
    "Input: root = [3,1,4,3,null,1,5]\n",
    "Output: 4\n",
    "Explanation: Nodes in blue are good.\n",
    "Root Node (3) is always a good node.\n",
    "Node 4 -> (3,4) is the maximum value in the path starting from the root.\n",
    "Node 5 -> (3,4,5) is the maximum value in the path\n",
    "Node 3 -> (3,1,3) is the maximum value in the path.\n",
    "\n",
    "Example 2:\n",
    "\n",
    "Input: root = [3,3,null,4,2]\n",
    "Output: 3\n",
    "Explanation: Node 2 -> (3, 3, 2) is not good, because \"3\" is higher than it.\n",
    "\n",
    "Example 3:\n",
    "\n",
    "Input: root = [1]\n",
    "Output: 1\n",
    "Explanation: Root is considered as good.\n",
    "\n",
    " \n",
    "\n",
    "Constraints:\n",
    "\n",
    "    The number of nodes in the binary tree is in the range [1, 10^5].\n",
    "    Each node's value is between [-10^4, 10^4].\n",
    "\n",
    "\n",
    "1448. 统计二叉树中好节点的数目\n",
    "\n",
    "给你一棵根为 root 的二叉树，请你返回二叉树中好节点的数目。\n",
    "\n",
    "「好节点」X 定义为：从根到该节点 X 所经过的节点中，没有任何节点的值大于 X 的值。\n",
    "\n",
    " \n",
    "\n",
    "示例 1：\n",
    "\n",
    "输入：root = [3,1,4,3,null,1,5]\n",
    "输出：4\n",
    "解释：图中蓝色节点为好节点。\n",
    "根节点 (3) 永远是个好节点。\n",
    "节点 4 -> (3,4) 是路径中的最大值。\n",
    "节点 5 -> (3,4,5) 是路径中的最大值。\n",
    "节点 3 -> (3,1,3) 是路径中的最大值。\n",
    "\n",
    "示例 2：\n",
    "\n",
    "输入：root = [3,3,null,4,2]\n",
    "输出：3\n",
    "解释：节点 2 -> (3, 3, 2) 不是好节点，因为 \"3\" 比它大。\n",
    "\n",
    "示例 3：\n",
    "\n",
    "输入：root = [1]\n",
    "输出：1\n",
    "解释：根节点是好节点。\n",
    "\n",
    "\n",
    "# Definition for a binary tree node.\n",
    "# class TreeNode:\n",
    "#     def __init__(self, val=0, left=None, right=None):\n",
    "#         self.val = val\n",
    "#         self.left = left\n",
    "#         self.right = right\n",
    "class Solution:\n",
    "    def goodNodes(self, root: TreeNode) -> int:"
   ]
  },
  {
   "cell_type": "code",
   "execution_count": 4,
   "metadata": {},
   "outputs": [],
   "source": [
    "from matplotlib.font_manager import json_dump\n",
    "from binarytree import tree\n",
    "class TreeNode:\n",
    "    def __init__(self, val=0, left=None, right=None):\n",
    "        self.val = val\n",
    "        self.left = left\n",
    "        self.right = right\n",
    "\n",
    "class Solution1448:\n",
    "    def __init__(self) -> None:\n",
    "        self.res = 0\n",
    "    def goodNodes(self, root: TreeNode) -> int:\n",
    "        if not root:return 0\n",
    "        if not root.left and not root.right:return 1\n",
    "\n",
    "        max_num = root.val\n",
    "        \n",
    "        def judge(root, max_num):\n",
    "            if not root:return\n",
    "            if root.val >= max_num:\n",
    "                max_num = max(root.val, max_num)\n",
    "                self.res += 1\n",
    "            \n",
    "            judge(root.left, max_num)\n",
    "            judge(root.right, max_num)\n",
    "        judge(root, max_num)\n",
    "        return self.res\n",
    "\n"
   ]
  },
  {
   "cell_type": "code",
   "execution_count": 8,
   "metadata": {},
   "outputs": [
    {
     "name": "stdout",
     "output_type": "stream",
     "text": [
      "tree0: \n",
      "    ______0\n",
      "   /       \\\n",
      "  8         1__\n",
      " / \\           \\\n",
      "4   10          5\n",
      "      \\        / \\\n",
      "       13     9   2\n",
      "\n"
     ]
    },
    {
     "data": {
      "text/plain": [
       "7"
      ]
     },
     "execution_count": 8,
     "metadata": {},
     "output_type": "execute_result"
    }
   ],
   "source": [
    "tree0 = tree()\n",
    "print('tree0:', tree0)\n",
    "s = Solution1448()\n",
    "s.goodNodes(tree0)"
   ]
  }
 ],
 "metadata": {
  "kernelspec": {
   "display_name": "Python 3.7.13 ('base')",
   "language": "python",
   "name": "python3"
  },
  "language_info": {
   "codemirror_mode": {
    "name": "ipython",
    "version": 3
   },
   "file_extension": ".py",
   "mimetype": "text/x-python",
   "name": "python",
   "nbconvert_exporter": "python",
   "pygments_lexer": "ipython3",
   "version": "3.7.13"
  },
  "orig_nbformat": 4,
  "vscode": {
   "interpreter": {
    "hash": "b349af1b1aaaa466089a61e9eed9b41212ce21d579615039c57f22cd5b13cdee"
   }
  }
 },
 "nbformat": 4,
 "nbformat_minor": 2
}
