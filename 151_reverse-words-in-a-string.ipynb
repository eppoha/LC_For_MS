{
 "cells": [
  {
   "cell_type": "markdown",
   "metadata": {},
   "source": [
    "151. Reverse Words in a String\n",
    "Medium\n",
    "\n",
    "Given an input string s, reverse the order of the words.\n",
    "\n",
    "A word is defined as a sequence of non-space characters. The words in s will be separated by at least one space.\n",
    "\n",
    "Return a string of the words in reverse order concatenated by a single space.\n",
    "\n",
    "Note that s may contain leading or trailing spaces or multiple spaces between two words. The returned string should only have a single space separating the words. Do not include any extra spaces.\n",
    "\n",
    " \n",
    "\n",
    "Example 1:\n",
    "\n",
    "Input: s = \"the sky is blue\"\n",
    "Output: \"blue is sky the\"\n",
    "\n",
    "Example 2:\n",
    "\n",
    "Input: s = \"  hello world  \"\n",
    "Output: \"world hello\"\n",
    "Explanation: Your reversed string should not contain leading or trailing spaces.\n",
    "\n",
    "Example 3:\n",
    "\n",
    "Input: s = \"a good   example\"\n",
    "Output: \"example good a\"\n",
    "Explanation: You need to reduce multiple spaces between two words to a single space in the reversed string.\n",
    "\n",
    " \n",
    "\n",
    "Constraints:\n",
    "\n",
    "    1 <= s.length <= 104\n",
    "    s contains English letters (upper-case and lower-case), digits, and spaces ' '.\n",
    "    There is at least one word in s.\n",
    "\n",
    " \n",
    "\n",
    "Follow-up: If the string data type is mutable in your language, can you solve it in-place with O(1) extra space?\n",
    "\n",
    "class Solution:\n",
    "    def reverseWords(self, s: str) -> str:\n",
    "        \n"
   ]
  },
  {
   "cell_type": "code",
   "execution_count": 1,
   "metadata": {},
   "outputs": [
    {
     "data": {
      "text/plain": [
       "['the sky is blue', '  hello world  ', 'a good   example']"
      ]
     },
     "execution_count": 1,
     "metadata": {},
     "output_type": "execute_result"
    }
   ],
   "source": [
    "s1 = \"the sky is blue\"\n",
    "s2 = \"  hello world  \"\n",
    "s3 = \"a good   example\"\n",
    "slist = [s1,s2,s3]\n",
    "slist"
   ]
  },
  {
   "cell_type": "code",
   "execution_count": 16,
   "metadata": {},
   "outputs": [
    {
     "data": {
      "text/plain": [
       "['', '', 'hello', 'world', '', '']"
      ]
     },
     "execution_count": 16,
     "metadata": {},
     "output_type": "execute_result"
    }
   ],
   "source": [
    "t = s2.split(' ')\n",
    "t"
   ]
  },
  {
   "cell_type": "code",
   "execution_count": 2,
   "metadata": {},
   "outputs": [
    {
     "data": {
      "text/plain": [
       "'hello world'"
      ]
     },
     "execution_count": 2,
     "metadata": {},
     "output_type": "execute_result"
    }
   ],
   "source": [
    "tmp = s2.strip()\n",
    "tmp"
   ]
  },
  {
   "cell_type": "code",
   "execution_count": 21,
   "metadata": {},
   "outputs": [],
   "source": [
    "class Solution151:\n",
    "    # like 344. haha\n",
    "    def fun(self, st, left, right):\n",
    "        if left > right:\n",
    "            return st\n",
    "        st[left], st[right] = st[right], st[left]\n",
    "        self.fun(st, left+1, right-1)\n",
    "        return st\n",
    "    def reverseWords(self, s: str) -> str:\n",
    "        sl = s.split(' ')\n",
    "        tmp = []\n",
    "        for i in sl:\n",
    "            if i!='':\n",
    "                tmp.append(i)\n",
    "                # tmp+=' '\n",
    "        # tmp = tmp.strip()\n",
    "        # return tmp\n",
    "        tmp = self.fun(tmp, 0, len(tmp)-1)\n",
    "        res = ''\n",
    "        for i in tmp:\n",
    "            if i!='':\n",
    "                res+=i\n",
    "                res += ' '\n",
    "        res = res.strip()\n",
    "        return res\n"
   ]
  },
  {
   "cell_type": "code",
   "execution_count": 22,
   "metadata": {},
   "outputs": [
    {
     "name": "stdout",
     "output_type": "stream",
     "text": [
      "blue is sky the\n",
      "world hello\n",
      "example good a\n"
     ]
    }
   ],
   "source": [
    "s = Solution151()\n",
    "for i in slist:\n",
    "    print(s.reverseWords(i))"
   ]
  },
  {
   "cell_type": "code",
   "execution_count": 15,
   "metadata": {},
   "outputs": [
    {
     "data": {
      "text/plain": [
       "True"
      ]
     },
     "execution_count": 15,
     "metadata": {},
     "output_type": "execute_result"
    }
   ],
   "source": [
    "' ' in ' '\n"
   ]
  }
 ],
 "metadata": {
  "kernelspec": {
   "display_name": "Python 3.7.13 ('base')",
   "language": "python",
   "name": "python3"
  },
  "language_info": {
   "codemirror_mode": {
    "name": "ipython",
    "version": 3
   },
   "file_extension": ".py",
   "mimetype": "text/x-python",
   "name": "python",
   "nbconvert_exporter": "python",
   "pygments_lexer": "ipython3",
   "version": "3.7.13"
  },
  "orig_nbformat": 4,
  "vscode": {
   "interpreter": {
    "hash": "b349af1b1aaaa466089a61e9eed9b41212ce21d579615039c57f22cd5b13cdee"
   }
  }
 },
 "nbformat": 4,
 "nbformat_minor": 2
}
